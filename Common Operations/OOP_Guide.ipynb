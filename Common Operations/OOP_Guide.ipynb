{
 "cells": [
  {
   "cell_type": "markdown",
   "id": "55317b94",
   "metadata": {},
   "source": [
    "# Introduction to Object-Oriented Programming (OOP)\n",
    "\n",
    "Object-Oriented Programming, or OOP, is a programming paradigm centered around the concept of \"objects.\" Instead of thinking about a program as a series of sequential procedures, OOP organizes code to model real-world things. For example, you can model a car, a user, or a bank account as an object in your code.\n",
    "\n",
    "The main benefits of using OOP include:\n",
    "\n",
    "* **Organization:** It bundles related data and functionality together, making code easier to understand and manage.\n",
    "* **Reusability:** Inheritance allows you to reuse code from existing classes to create new ones, saving time and effort.\n",
    "* **Maintainability:** OOP makes it easier to debug and modify code, as changes to one object are less likely to break other parts of the program.\n",
    "* **Scalability:** It provides a clear structure for building large and complex applications."
   ]
  },
  {
   "cell_type": "markdown",
   "id": "450b637f",
   "metadata": {},
   "source": [
    "## Classes and Objects: The Building Blocks\n",
    "\n",
    "The two fundamental concepts in OOP are classes and objects.\n",
    "\n",
    "* **Class:** A class is a **blueprint** for creating objects. It defines a set of attributes (data) and methods (functions) that the created objects will have. For example, a `Car` class could define that all cars have a `make`, `model`, and a method to `start_engine`.\n",
    "\n",
    "* **Object (or Instance):** An object is a specific **instance** created from a class. If `Car` is the blueprint, then a specific Ford Mustang or a specific Tesla Model S would be objects of the `Car` class.\n",
    "\n",
    "## Example: Creating a Simple Class and Object\n",
    "\n",
    "Let's define a simple `Dog` class. The `pass` keyword is used here as a placeholder because we haven't defined any attributes or methods yet."
   ]
  },
  {
   "cell_type": "code",
   "execution_count": 1,
   "id": "d0a74afc",
   "metadata": {},
   "outputs": [
    {
     "name": "stdout",
     "output_type": "stream",
     "text": [
      "<__main__.Dog object at 0x000001EFD290A4B0>\n",
      "<class '__main__.Dog'>\n"
     ]
    }
   ],
   "source": [
    "# Define the class (the blueprint)\n",
    "class Dog:\n",
    "    pass\n",
    "\n",
    "# Create an object (an instance) from the class\n",
    "my_dog = Dog()\n",
    "\n",
    "print(my_dog)\n",
    "print(type(my_dog))"
   ]
  },
  {
   "cell_type": "markdown",
   "id": "a2422cdc",
   "metadata": {},
   "source": [
    "## Constructors and Attributes\n",
    "\n",
    "To make our classes useful, we need to give them data. **Attributes** are variables that belong to a class. An **instance attribute** is specific to each object created from the-class.\n",
    "\n",
    "We define these attributes using a special method called the **constructor**. In Python, the constructor method is always named `__init__()`. It's automatically called whenever you create a new object.\n",
    "\n",
    "The first parameter of `__init__()` is always `self`. It represents the specific instance of the class being created, allowing you to attach data to it.\n",
    "\n",
    "## Example: The `__init__()` Constructor\n",
    "\n",
    "Let's give our `Dog` class some attributes like name and age."
   ]
  },
  {
   "cell_type": "code",
   "execution_count": null,
   "id": "cbc41679",
   "metadata": {},
   "outputs": [],
   "source": [
    "# Define the class (the blueprint)\n",
    "class Dog:\n",
    "    def __init__(self, name, age): # __init__(self, ...) is used to define attributes\n",
    "        # 'self' refers to the specific instance of the object being created\n",
    "        # We are creating and assigning instance attributes\n",
    "        self.name = name\n",
    "        self.age = age\n",
    "        print(f\"A new dog named {self.name} has been created!\")\n",
    "        \n",
    "# Create two different Dog objects with unique attributes\n",
    "dog1 = Dog(\"Buddy\", 4)\n",
    "dog2 = Dog(\"Lucy\", 2)\n",
    "\n",
    "# Access the attributes of each object using dot notation\n",
    "print(f\"{dog1.name} is {dog1.age} years old.\") # Output: Buddy is 4 years old.\n",
    "print(f\"{dog2.name} is {dog2.age} years old.\") # Output: Lucy is 2 years old."
   ]
  },
  {
   "cell_type": "markdown",
   "id": "53cb4b61",
   "metadata": {},
   "source": [
    "## Methods: Defining Behavior\n",
    "\n",
    "**Methods** are functions that are defined inside a class and describe the behaviors of an object. Just like `__init__()`, their first parameter is always `self`, which gives them access to the object's instance attributes.\n",
    "\n",
    "## Example: Adding Methods to the `Dog` Class\n",
    "\n",
    "Let's add `sit()` and `bark()` methods to our `Dog` class."
   ]
  },
  {
   "cell_type": "code",
   "execution_count": 2,
   "id": "095e1b34",
   "metadata": {},
   "outputs": [
    {
     "name": "stdout",
     "output_type": "stream",
     "text": [
      "Rex is now sitting.\n",
      "Rex says Woof!\n",
      "Rex says Grrrr!\n"
     ]
    }
   ],
   "source": [
    "class Dog:\n",
    "    def __init__(self, name, age):\n",
    "        self.name = name\n",
    "        self.age = age\n",
    "\n",
    "    # An instance method\n",
    "    def sit(self):\n",
    "        \"\"\"Simulates a dog sitting in response to a command.\"\"\"\n",
    "        return f\"{self.name} is now sitting.\"\n",
    "\n",
    "    # Another instance method\n",
    "    def bark(self, sound=\"Woof\"):\n",
    "        \"\"\"Simulates a dog barking.\"\"\"\n",
    "        return f\"{self.name} says {sound}!\"\n",
    "\n",
    "my_dog = Dog(\"Rex\", 5)\n",
    "\n",
    "# Call the methods on the object\n",
    "print(my_dog.sit())\n",
    "print(my_dog.bark())\n",
    "print(my_dog.bark(\"Grrrr\")) # Calling with a custom argument"
   ]
  },
  {
   "cell_type": "markdown",
   "id": "1ddb4d24",
   "metadata": {},
   "source": [
    "## The Four Pillars of OOP\n",
    "\n",
    "OOP is built on four main principles that help create robust and scalable software.\n",
    "\n",
    "**1. Inheritance: The \"Is-A\" Relationship**\n",
    "\n",
    "Inheritance allows a new class (the **child class** or **subclass**) to inherit attributes and methods from an existing class (the **parent class** or **superclass**). This promotes code reuse. The relationship is an \"is-a\" relationship; for example, a `GoldenRetriever` is a `Dog`.\n",
    "\n",
    "The `super()` function allows a child class to call methods from its parent class, which is especially useful for extending the parent's `__init__()` method.\n",
    "\n",
    "**Example: Creating a Subclass**\n",
    "\n",
    "Let's create a `ServiceDog` class that inherits from `Dog` but also has a special task."
   ]
  },
  {
   "cell_type": "code",
   "execution_count": 3,
   "id": "41b5a05c",
   "metadata": {},
   "outputs": [
    {
     "name": "stdout",
     "output_type": "stream",
     "text": [
      "Robo says Woof!\n",
      "Robo is performing the task: guiding the blind.\n"
     ]
    }
   ],
   "source": [
    "# Parent class\n",
    "class Dog:\n",
    "    def __init__(self, name, age):\n",
    "        self.name = name\n",
    "        self.age = age\n",
    "\n",
    "    def bark(self):\n",
    "        return f\"{self.name} says Woof!\"\n",
    "\n",
    "# Child class inheriting from Dog\n",
    "class ServiceDog(Dog):\n",
    "    def __init__(self, name, age, task):\n",
    "        # Use super() to call the parent's constructor\n",
    "        super().__init__(name, age)\n",
    "        # Add a new attribute specific to the child class\n",
    "        self.task = task\n",
    "\n",
    "    def perform_task(self):\n",
    "        return f\"{self.name} is performing the task: {self.task}.\"\n",
    "\n",
    "# Create an instance of the child class\n",
    "s_dog = ServiceDog(\"Robo\", 3, \"guiding the blind\")\n",
    "\n",
    "# The child class has access to the parent's methods\n",
    "print(s_dog.bark())\n",
    "\n",
    "# The child class also has its own methods\n",
    "print(s_dog.perform_task())"
   ]
  },
  {
   "cell_type": "markdown",
   "id": "17cdaa3f",
   "metadata": {},
   "source": [
    "**2. Encapsulation: Protecting Data**\n",
    "\n",
    "Encapsulation is the principle of bundling the data (attributes) and the methods that operate on that data within a single unit (the class). It also involves restricting direct access to an object's components, which is known as **data hiding**.\n",
    "\n",
    "In Python, we can suggest that an attribute should be **private** (not accessed directly from outside the class) by prefixing its name with a double underscore (`__`). This is a convention that tells other developers not to touch it. To provide safe access, we create public methods called **getters** and **setters**.\n",
    "\n",
    "**Example: Private Attributes**\n",
    "\n",
    "Let's create a `BankAccount` where the `__balance` is private."
   ]
  },
  {
   "cell_type": "code",
   "execution_count": 4,
   "id": "b1cd55fc",
   "metadata": {},
   "outputs": [
    {
     "name": "stdout",
     "output_type": "stream",
     "text": [
      "Current Balance: $1000\n",
      "Deposited $500.\n",
      "Current Balance: $1500\n"
     ]
    }
   ],
   "source": [
    "class BankAccount:\n",
    "    def __init__(self, initial_deposit):\n",
    "        # This attribute is \"private\"\n",
    "        self.__balance = initial_deposit\n",
    "\n",
    "    # A \"getter\" method to safely read the balance\n",
    "    def get_balance(self):\n",
    "        return f\"Current Balance: ${self.__balance}\"\n",
    "\n",
    "    # A \"setter\" method to safely modify the balance\n",
    "    def deposit(self, amount):\n",
    "        if amount > 0:\n",
    "            self.__balance += amount\n",
    "            print(f\"Deposited ${amount}.\")\n",
    "        else:\n",
    "            print(\"Deposit amount must be positive.\")\n",
    "\n",
    "my_account = BankAccount(1000)\n",
    "\n",
    "# Direct access is discouraged and will cause an error\n",
    "# print(my_account.__balance) # This would raise an AttributeError\n",
    "\n",
    "# Use the public getter method to access the data\n",
    "print(my_account.get_balance())\n",
    "\n",
    "# Use the public setter method to modify the data\n",
    "my_account.deposit(500)\n",
    "print(my_account.get_balance())"
   ]
  },
  {
   "cell_type": "markdown",
   "id": "85f4bfd5",
   "metadata": {},
   "source": [
    "**3. Polymorphism: One Interface, Many Forms**\n",
    "\n",
    "Polymorphism (from Greek, meaning \"many forms\") is the ability of different objects to respond to the same method call in their own unique way. It allows you to write code that works with objects of different classes through a unified interface.\n",
    "\n",
    "**Example: Common Method, Different Behaviors**\n",
    "\n",
    "Let's create a `Cat` and `Dog` class, both with a `speak()` method. We can then call `speak()` on objects of either class without needing to know their specific type."
   ]
  },
  {
   "cell_type": "code",
   "execution_count": 5,
   "id": "520957e2",
   "metadata": {},
   "outputs": [
    {
     "name": "stdout",
     "output_type": "stream",
     "text": [
      "Whiskers says Meow!\n",
      "Buddy says Woof!\n"
     ]
    }
   ],
   "source": [
    "class Cat:\n",
    "    def __init__(self, name):\n",
    "        self.name = name\n",
    "\n",
    "    def speak(self):\n",
    "        return f\"{self.name} says Meow!\"\n",
    "\n",
    "class Dog:\n",
    "    def __init__(self, name):\n",
    "        self.name = name\n",
    "\n",
    "    def speak(self):\n",
    "        return f\"{self.name} says Woof!\"\n",
    "\n",
    "# Create instances of each class\n",
    "whiskers = Cat(\"Whiskers\")\n",
    "buddy = Dog(\"Buddy\")\n",
    "\n",
    "# A list containing different object types\n",
    "pets = [whiskers, buddy]\n",
    "\n",
    "# Loop and call the same method on each object\n",
    "# Polymorphism ensures the correct method is executed for each object.\n",
    "for pet in pets:\n",
    "    print(pet.speak())"
   ]
  },
  {
   "cell_type": "markdown",
   "id": "cb207547",
   "metadata": {},
   "source": [
    "**4. Abstraction: Hiding Complexity**\n",
    "\n",
    "Abstraction means hiding the complex implementation details and showing only the essential, high-level features to the user. In Python, this is often achieved using **Abstract Base Classes (ABCs)** from the `abc` module.\n",
    "\n",
    "An abstract class cannot be instantiated. Its purpose is to define a common interface that all its subclasses must implement. An **abstract method** is a method declared in an abstract class but has no implementation. Subclasses are forced to provide their own implementation.\n",
    "\n",
    "**Example: Using an Abstract Base Class**\n",
    "\n",
    "Let's create an abstract `Vehicle` class that requires all subclasses to implement a `drive()` method."
   ]
  },
  {
   "cell_type": "code",
   "execution_count": 6,
   "id": "31209906",
   "metadata": {},
   "outputs": [
    {
     "name": "stdout",
     "output_type": "stream",
     "text": [
      "The car is driving on the road.\n",
      "The boat is sailing on the water.\n"
     ]
    }
   ],
   "source": [
    "from abc import ABC, abstractmethod\n",
    "\n",
    "# Create an Abstract Base Class\n",
    "class Vehicle(ABC):\n",
    "    @abstractmethod\n",
    "    def drive(self):\n",
    "        \"\"\"An abstract method that must be implemented by subclasses.\"\"\"\n",
    "        pass\n",
    "\n",
    "class Car(Vehicle):\n",
    "    def drive(self):\n",
    "        return \"The car is driving on the road.\"\n",
    "\n",
    "class Boat(Vehicle):\n",
    "    def drive(self):\n",
    "        return \"The boat is sailing on the water.\"\n",
    "\n",
    "# You cannot create an instance of an abstract class\n",
    "# vehicle = Vehicle() # This would raise a TypeError\n",
    "\n",
    "# But you can create instances of concrete subclasses\n",
    "my_car = Car()\n",
    "my_boat = Boat()\n",
    "\n",
    "print(my_car.drive())\n",
    "print(my_boat.drive())"
   ]
  }
 ],
 "metadata": {
  "kernelspec": {
   "display_name": "base",
   "language": "python",
   "name": "python3"
  },
  "language_info": {
   "codemirror_mode": {
    "name": "ipython",
    "version": 3
   },
   "file_extension": ".py",
   "mimetype": "text/x-python",
   "name": "python",
   "nbconvert_exporter": "python",
   "pygments_lexer": "ipython3",
   "version": "3.12.9"
  }
 },
 "nbformat": 4,
 "nbformat_minor": 5
}
