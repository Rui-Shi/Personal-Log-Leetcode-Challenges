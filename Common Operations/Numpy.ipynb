{
 "cells": [
  {
   "cell_type": "markdown",
   "id": "d26bb1af",
   "metadata": {},
   "source": [
    "# Data Science Interview Prep: NumPy & Pandas\n",
    "\n",
    "This guide is designed to help you prepare for data science interviews by covering the core concepts and practical applications of NumPy and Pandas. It progresses from easy to hard, providing conceptual reviews, challenging problems, and detailed solutions for each level.\n",
    "\n",
    "---\n",
    "\n",
    "## NumPy: The Foundation of Numerical Computing\n",
    "\n",
    "NumPy (Numerical Python) is the fundamental package for scientific computing in Python. It provides a high-performance multidimensional array object and tools for working with these arrays.\n",
    "\n",
    "---\n",
    "\n",
    "### NumPy: Easy\n",
    "\n",
    "This level focuses on the basics of array creation, manipulation, and the core concept of vectorization.\n",
    "\n",
    "#### 📝 Core Concepts\n",
    "\n",
    "* **`np.array()`**: The fundamental object is the `ndarray` (n-dimensional array), a fast and flexible container for large datasets in Python.\n",
    "* **Attributes**: Key attributes of an array include `.shape` (its dimensions), `.dtype` (the data type of its elements), and `.ndim` (number of dimensions).\n",
    "* **Vectorization**: Performing a single operation on the entire array at once, which is significantly faster than iterating through elements with a Python loop.\n",
    "* **Basic Indexing & Slicing**: Accessing elements of the array using square brackets `[]`, similar to Python lists.\n",
    "\n",
    "#### 💻 Challenging Problem\n",
    "\n",
    "You are given two NumPy arrays: `heights` (in meters) and `weights` (in kilograms). Your task is to calculate the Body Mass Index (BMI) for each person and then find the average BMI of all individuals with a BMI greater than 25."
   ]
  },
  {
   "cell_type": "code",
   "execution_count": null,
   "id": "bb36854e",
   "metadata": {},
   "outputs": [],
   "source": [
    "import numpy as np\n",
    "\n",
    "heights = np.array([1.75, 1.80, 1.65, 1.90, 1.74, 1.88])\n",
    "weights = np.array([65, 82, 58, 95, 70, 91])\n",
    "\n",
    "# solution\n",
    "# Calculate BMI for all individuals using vectorization\n",
    "BMI = weights / (heights ** 2)\n",
    "overweight_BMI = BMI[BMI > 25]\n",
    "print(overweight_BMI)\n",
    "\n",
    "average_overweight_BMI = \n"
   ]
  }
 ],
 "metadata": {
  "kernelspec": {
   "display_name": "base",
   "language": "python",
   "name": "python3"
  },
  "language_info": {
   "codemirror_mode": {
    "name": "ipython",
    "version": 3
   },
   "file_extension": ".py",
   "mimetype": "text/x-python",
   "name": "python",
   "nbconvert_exporter": "python",
   "pygments_lexer": "ipython3",
   "version": "3.12.9"
  }
 },
 "nbformat": 4,
 "nbformat_minor": 5
}
