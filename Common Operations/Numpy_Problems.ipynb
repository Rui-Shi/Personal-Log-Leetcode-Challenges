{
 "cells": [
  {
   "cell_type": "markdown",
   "id": "d26bb1af",
   "metadata": {},
   "source": [
    "## NumPy Interview Questions\n",
    "---\n",
    "### Question 1: Creating a Range Array\n",
    "\n",
    "How would you create a NumPy array containing all even integers from 10 to 50 (inclusive)?\n",
    "\n",
    "**Solution:**"
   ]
  },
  {
   "cell_type": "code",
   "execution_count": 2,
   "id": "bb36854e",
   "metadata": {},
   "outputs": [
    {
     "name": "stdout",
     "output_type": "stream",
     "text": [
      "[10 12 14 16 18 20 22 24 26 28 30 32 34 36 38 40 42 44 46 48 50]\n"
     ]
    }
   ],
   "source": [
    "import numpy as np\n",
    "\n",
    "res = np.arange(10, 51, 2)\n",
    "\n",
    "print(res)\n"
   ]
  },
  {
   "cell_type": "markdown",
   "id": "828164f8",
   "metadata": {},
   "source": [
    "### Question 2: Reshaping an Array\n",
    "\n",
    "Create a 1D NumPy array with 12 sequential integers starting from 1. Then, reshape it into a 4x3 matrix.\n",
    "\n",
    "**Solution:**"
   ]
  },
  {
   "cell_type": "code",
   "execution_count": 12,
   "id": "a5fef3a3",
   "metadata": {},
   "outputs": [
    {
     "name": "stdout",
     "output_type": "stream",
     "text": [
      "[[ 1  2  3]\n",
      " [ 4  5  6]\n",
      " [ 7  8  9]\n",
      " [10 11 12]]\n"
     ]
    }
   ],
   "source": [
    "x = np.linspace(1, 12, 12)\n",
    "x = np.arange(1, 13, 1)\n",
    "\n",
    "x_matrix = x.reshape(4, 3)\n",
    "\n",
    "print(x_matrix)"
   ]
  },
  {
   "cell_type": "markdown",
   "id": "fca548ab",
   "metadata": {},
   "source": [
    "### Question 3: Boolean Indexing\n",
    "\n",
    "Given the array `data = np.array([5, 15, 25, 35, 45, 55])`, write a single line of code to select all elements that are greater than 20 but less than 50.\n",
    "\n",
    "**Solution:**"
   ]
  },
  {
   "cell_type": "code",
   "execution_count": 15,
   "id": "9fe76fc3",
   "metadata": {},
   "outputs": [
    {
     "name": "stdout",
     "output_type": "stream",
     "text": [
      "[25 35 45]\n"
     ]
    }
   ],
   "source": [
    "data = np.array([5, 15, 25, 35, 45, 55])\n",
    "\n",
    "res = data[(data > 20) & (data < 50)]\n",
    "\n",
    "# res = data[data > 20 & data < 50] is wrong because \"&\"\" has higher precedence, Python tries to evaluate the expression 20 & data first.\n",
    "\n",
    "print(res)"
   ]
  },
  {
   "cell_type": "markdown",
   "id": "183f264c",
   "metadata": {},
   "source": [
    "### Question 4: Aggregation Along an Axis\n",
    "\n",
    "Given the 2D array `matrix = np.array([[10, 20, 30], [40, 50, 60]])`, calculate the sum of the elements for each column.\n",
    "\n",
    "**Solution:**"
   ]
  },
  {
   "cell_type": "code",
   "execution_count": null,
   "id": "3dec0145",
   "metadata": {},
   "outputs": [
    {
     "name": "stdout",
     "output_type": "stream",
     "text": [
      "[50. 70. 90.]\n",
      "[50 70 90]\n"
     ]
    }
   ],
   "source": [
    "# my solution\n",
    "matrix = np.array([[10, 20, 30], [40, 50, 60]])\n",
    "\n",
    "col_sum = np.zeros(len(matrix[0]))\n",
    "\n",
    "for row in matrix:\n",
    "    col_sum += row\n",
    "\n",
    "print(col_sum)\n",
    "\n",
    "# alternative solution\n",
    "matrix = np.array([[10, 20, 30], [40, 50, 60]])\n",
    "column_sums = np.sum(matrix, axis=0)\n",
    "print(column_sums)"
   ]
  },
  {
   "cell_type": "markdown",
   "id": "7f3c7e19",
   "metadata": {},
   "source": [
    "### Question 5: Combining Arrays\n",
    "\n",
    "You have two NumPy arrays: `a = np.array([[1, 1], [2, 2]])` and `b = np.array([[3, 3], [4, 4]])`. How do you stack them horizontally to create a single array?\n",
    "\n",
    "**Solution:**"
   ]
  },
  {
   "cell_type": "code",
   "execution_count": null,
   "id": "b749c15f",
   "metadata": {},
   "outputs": [
    {
     "name": "stdout",
     "output_type": "stream",
     "text": [
      "[[1 1 3 3]\n",
      " [2 2 4 4]]\n",
      "--------------\n",
      "[[1 1 3 3]\n",
      " [2 2 4 4]]\n"
     ]
    }
   ],
   "source": [
    "a = np.array([[1, 1], [2, 2]])\n",
    "b = np.array([[3, 3], [4, 4]])\n",
    "\n",
    "ab = np.hstack((a, b))\n",
    "print(ab)\n",
    "\n",
    "print(\"--------------\")\n",
    "\n",
    "ab = np.concatenate((a, b), axis=1)\n",
    "print(ab)"
   ]
  },
  {
   "cell_type": "markdown",
   "id": "e09da63d",
   "metadata": {},
   "source": [
    "### Question 6: Array Creation with Specific Data Types\n",
    "\n",
    "Create a 3x3 NumPy array filled with ones, ensuring the data type is integer.\n",
    "\n",
    "**Solution:**"
   ]
  },
  {
   "cell_type": "code",
   "execution_count": 29,
   "id": "c66a9e38",
   "metadata": {},
   "outputs": [
    {
     "name": "stdout",
     "output_type": "stream",
     "text": [
      "[[1 1 1]\n",
      " [1 1 1]\n",
      " [1 1 1]]\n",
      "--------------\n",
      "[[1. 1. 1.]\n",
      " [1. 1. 1.]\n",
      " [1. 1. 1.]]\n"
     ]
    }
   ],
   "source": [
    "import numpy as np\n",
    "ones_int_array = np.ones((3, 3), dtype=int)\n",
    "print(ones_int_array)\n",
    "\n",
    "print(\"--------------\")\n",
    "\n",
    "ones_int_array = np.ones((3, 3))\n",
    "print(ones_int_array)"
   ]
  },
  {
   "cell_type": "markdown",
   "id": "c560d4ed",
   "metadata": {},
   "source": [
    "### Question 7: Slicing a 2D Array\n",
    "\n",
    "Given the array `arr2d = np.array([[1, 2, 3, 4], [5, 6, 7, 8], [9, 10, 11, 12]])`, extract the sub-array `[[6, 7], [10, 11]]`.\n",
    "\n",
    "**Solution:**"
   ]
  },
  {
   "cell_type": "code",
   "execution_count": null,
   "id": "22e19b6a",
   "metadata": {},
   "outputs": [
    {
     "name": "stdout",
     "output_type": "stream",
     "text": [
      "[[ 6  7]\n",
      " [10 11]]\n"
     ]
    }
   ],
   "source": [
    "arr2d = np.array([[1, 2, 3, 4], [5, 6, 7, 8], [9, 10, 11, 12]])\n",
    "\n",
    "sub_array = arr2d[1:3, 1:3]\n",
    "print(sub_array)\n"
   ]
  },
  {
   "cell_type": "markdown",
   "id": "ea9764e8",
   "metadata": {},
   "source": [
    "### Question 8: Universal Functions (ufunc)\n",
    "\n",
    "Given the array `arr = np.array([1, 4, 9, 16])`, how would you compute the square root of each element?\n",
    "\n",
    "**Solution:**"
   ]
  },
  {
   "cell_type": "code",
   "execution_count": 8,
   "id": "52905136",
   "metadata": {},
   "outputs": [
    {
     "name": "stdout",
     "output_type": "stream",
     "text": [
      "[1. 2. 3. 4.]\n",
      "[2.71828183e+00 5.45981500e+01 8.10308393e+03 8.88611052e+06]\n"
     ]
    }
   ],
   "source": [
    "arr = np.array([1, 4, 9, 16])\n",
    "\n",
    "arr_sqr = np.sqrt(arr)\n",
    "\n",
    "print(arr_sqr)\n",
    "\n",
    "print(np.exp(arr))"
   ]
  },
  {
   "cell_type": "markdown",
   "id": "158f6629",
   "metadata": {},
   "source": [
    "### Question 9: Array Inspection\n",
    "\n",
    "You are given a NumPy array named `my_array`. How would you find its dimensions, total number of elements, and data type?\n",
    "\n",
    "**Solution:**"
   ]
  },
  {
   "cell_type": "code",
   "execution_count": 9,
   "id": "ed58ae51",
   "metadata": {},
   "outputs": [
    {
     "name": "stdout",
     "output_type": "stream",
     "text": [
      "Shape: (5, 4), Size: 20, Dtype: int32\n"
     ]
    }
   ],
   "source": [
    "import numpy as np\n",
    "my_array = np.random.randint(0, 100, size=(5, 4)) # Example array\n",
    "shape = my_array.shape\n",
    "size = my_array.size\n",
    "dtype = my_array.dtype\n",
    "print(f\"Shape: {shape}, Size: {size}, Dtype: {dtype}\")"
   ]
  },
  {
   "cell_type": "markdown",
   "id": "ee415102",
   "metadata": {},
   "source": [
    "### Question 10: Scalar Operations\n",
    "\n",
    "You have the array `arr = np.array([10, 20, 30])`. How do you subtract 5 from every element in the array?\n",
    "\n",
    "**Solution:**"
   ]
  },
  {
   "cell_type": "code",
   "execution_count": 10,
   "id": "9e47cf3a",
   "metadata": {},
   "outputs": [
    {
     "name": "stdout",
     "output_type": "stream",
     "text": [
      "[ 5 15 25]\n"
     ]
    }
   ],
   "source": [
    "import numpy as np\n",
    "arr = np.array([10, 20, 30])\n",
    "result = arr - 5\n",
    "print(result)"
   ]
  }
 ],
 "metadata": {
  "kernelspec": {
   "display_name": "base",
   "language": "python",
   "name": "python3"
  },
  "language_info": {
   "codemirror_mode": {
    "name": "ipython",
    "version": 3
   },
   "file_extension": ".py",
   "mimetype": "text/x-python",
   "name": "python",
   "nbconvert_exporter": "python",
   "pygments_lexer": "ipython3",
   "version": "3.12.9"
  }
 },
 "nbformat": 4,
 "nbformat_minor": 5
}
